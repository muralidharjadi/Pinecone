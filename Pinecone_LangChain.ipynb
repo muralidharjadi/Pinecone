{
 "cells": [
  {
   "cell_type": "code",
   "execution_count": 50,
   "id": "2948b923-1d1e-4e04-9899-347202336c3c",
   "metadata": {},
   "outputs": [
    {
     "name": "stdin",
     "output_type": "stream",
     "text": [
      " ········\n"
     ]
    }
   ],
   "source": [
    "from langchain_openai import OpenAI\n",
    "from langchain_openai import ChatOpenAI\n",
    "import getpass\n",
    "import os\n",
    "\n",
    "os.environ[\"OPENAI_API_KEY\"] = getpass.getpass()"
   ]
  },
  {
   "cell_type": "code",
   "execution_count": 51,
   "id": "1a441ae0-e0bc-4d97-b584-c38c1a66ed6c",
   "metadata": {},
   "outputs": [
    {
     "name": "stdout",
     "output_type": "stream",
     "text": [
      "content='The capital of India is New Delhi.' response_metadata={'token_usage': {'completion_tokens': 8, 'prompt_tokens': 13, 'total_tokens': 21}, 'model_name': 'gpt-3.5-turbo-0125', 'system_fingerprint': None, 'finish_reason': 'stop', 'logprobs': None} id='run-d010311d-a34f-49b3-9a73-f0eb3715c695-0' usage_metadata={'input_tokens': 13, 'output_tokens': 8, 'total_tokens': 21}\n"
     ]
    }
   ],
   "source": [
    "llm = ChatOpenAI(model=\"gpt-3.5-turbo-0125\", temperature=0.6)\n",
    "result = llm.invoke(\"What is capital of India?\")\n",
    "print(result)"
   ]
  },
  {
   "cell_type": "code",
   "execution_count": 52,
   "id": "f4f618c7-bc2a-4944-b480-2f2442d6a259",
   "metadata": {},
   "outputs": [
    {
     "name": "stdout",
     "output_type": "stream",
     "text": [
      "\n",
      "\n",
      "The capital of India is New Delhi.\n"
     ]
    }
   ],
   "source": [
    "llm1 = OpenAI(temperature=0.6)\n",
    "result = llm1.invoke(\"What is capital of India?\")\n",
    "print(result)"
   ]
  },
  {
   "cell_type": "markdown",
   "id": "e90c3910-80dd-494c-8c92-611dfe65352d",
   "metadata": {},
   "source": [
    "## Document Loading"
   ]
  },
  {
   "cell_type": "code",
   "execution_count": 53,
   "id": "0fabf007-de53-45ec-af51-b87d50aa88c5",
   "metadata": {},
   "outputs": [
    {
     "name": "stdout",
     "output_type": "stream",
     "text": [
      "Requirement already satisfied: pypdf in c:\\users\\intel\\anaconda3\\lib\\site-packages (4.2.0)\n",
      "Note: you may need to restart the kernel to use updated packages.\n"
     ]
    }
   ],
   "source": [
    "pip install pypdf"
   ]
  },
  {
   "cell_type": "code",
   "execution_count": 54,
   "id": "0ba40994-56d1-410c-bf87-113c59eb24ed",
   "metadata": {},
   "outputs": [],
   "source": [
    "from langchain_community.document_loaders import PyPDFLoader"
   ]
  },
  {
   "cell_type": "code",
   "execution_count": 55,
   "id": "4f4d0c65-e781-4047-9f77-615f52471c76",
   "metadata": {},
   "outputs": [],
   "source": [
    "loader = PyPDFLoader(\"D:\\Data\\LLM\\llamaindex\\IndianEconomy\\Indian_Economy_Overview.pdf\")\n",
    "docs = loader.load()"
   ]
  },
  {
   "cell_type": "code",
   "execution_count": 56,
   "id": "57d0ea26-df55-4c58-bcf9-796b65acbfee",
   "metadata": {},
   "outputs": [
    {
     "data": {
      "text/plain": [
       "9"
      ]
     },
     "execution_count": 56,
     "metadata": {},
     "output_type": "execute_result"
    }
   ],
   "source": [
    "len(docs)"
   ]
  },
  {
   "cell_type": "code",
   "execution_count": 60,
   "id": "0db8bd73-5143-412c-90f4-795e330cec28",
   "metadata": {},
   "outputs": [],
   "source": [
    "from langchain import hub\n",
    "from langchain_chroma import Chroma\n",
    "from langchain_core.output_parsers import StrOutputParser\n",
    "from langchain_core.runnables import RunnablePassthrough\n",
    "from langchain_openai import OpenAIEmbeddings\n",
    "from langchain_text_splitters import RecursiveCharacterTextSplitter"
   ]
  },
  {
   "cell_type": "code",
   "execution_count": 57,
   "id": "b47a1187-1bff-44ee-8a1c-ccf8f58c3551",
   "metadata": {},
   "outputs": [],
   "source": [
    "## Split documents in to chunks"
   ]
  },
  {
   "cell_type": "code",
   "execution_count": 68,
   "id": "7c6f5eba-3f2f-464f-8fb4-5370db916858",
   "metadata": {},
   "outputs": [],
   "source": [
    "text_splitter = RecursiveCharacterTextSplitter(chunk_size=1000, chunk_overlap=20)\n",
    "documents = text_splitter.split_documents(docs)"
   ]
  },
  {
   "cell_type": "code",
   "execution_count": 69,
   "id": "9d1805d0-e8fb-4e8e-b2aa-6cc8924acd59",
   "metadata": {},
   "outputs": [
    {
     "data": {
      "text/plain": [
       "10"
      ]
     },
     "execution_count": 69,
     "metadata": {},
     "output_type": "execute_result"
    }
   ],
   "source": [
    "len(documents)"
   ]
  },
  {
   "cell_type": "code",
   "execution_count": 84,
   "id": "17596363-c9fc-47b7-8972-1af8c97054df",
   "metadata": {},
   "outputs": [],
   "source": [
    "import os\n",
    "from pinecone import Pinecone\n",
    "\n",
    "# initialize connection to pinecone (get API key at app.pinecone.io)\n",
    "api_key = os.environ.get('70e3768a-3577-4117-ab70-25956bb0d04f') or '70e3768a-3577-4117-ab70-25956bb0d04f'\n",
    "\n",
    "# configure client\n",
    "pc = Pinecone(api_key=api_key)\n",
    "\n",
    "os.environ['PINECONE_API_KEY'] = '70e3768a-3577-4117-ab70-25956bb0d04f'"
   ]
  },
  {
   "cell_type": "code",
   "execution_count": 78,
   "id": "967f8540-4963-491a-8fc6-e1554108212b",
   "metadata": {},
   "outputs": [],
   "source": [
    "from pinecone import ServerlessSpec\n",
    "\n",
    "cloud = os.environ.get('PINECONE_CLOUD') or 'aws'\n",
    "region = os.environ.get('PINECONE_REGION') or 'us-east-1'\n",
    "\n",
    "spec = ServerlessSpec(cloud=cloud, region=region)"
   ]
  },
  {
   "cell_type": "code",
   "execution_count": 79,
   "id": "896a0fff-97f8-4758-959f-bfa6a4494c8d",
   "metadata": {},
   "outputs": [],
   "source": [
    "index_name = 'gen-qa-openai-fast'"
   ]
  },
  {
   "cell_type": "code",
   "execution_count": 80,
   "id": "eed039d9-c0f1-41ca-9b23-1b095dd47bd8",
   "metadata": {},
   "outputs": [
    {
     "data": {
      "text/plain": [
       "{'dimension': 1536,\n",
       " 'index_fullness': 0.0,\n",
       " 'namespaces': {},\n",
       " 'total_vector_count': 0}"
      ]
     },
     "execution_count": 80,
     "metadata": {},
     "output_type": "execute_result"
    }
   ],
   "source": [
    "# check if index already exists (it shouldn't if this is first time)\n",
    "if index_name not in pc.list_indexes().names():\n",
    "    # if does not exist, create index\n",
    "    pc.create_index(\n",
    "        index_name,\n",
    "        dimension=1536,  # dimensionality of text-embedding-ada-002\n",
    "        metric='cosine',\n",
    "        spec=spec\n",
    "    )\n",
    "# connect to index\n",
    "index = pc.Index(index_name)\n",
    "# view index stats\n",
    "index.describe_index_stats()"
   ]
  },
  {
   "cell_type": "code",
   "execution_count": 81,
   "id": "82f04882-b1c1-45ce-8bae-6ba870e9a1dd",
   "metadata": {},
   "outputs": [
    {
     "data": {
      "text/plain": [
       "1536"
      ]
     },
     "execution_count": 81,
     "metadata": {},
     "output_type": "execute_result"
    }
   ],
   "source": [
    "embeddings = OpenAIEmbeddings()\n",
    "\n",
    "query_result = embeddings.embed_query(\"Hello world\")\n",
    "len(query_result)"
   ]
  },
  {
   "cell_type": "code",
   "execution_count": 82,
   "id": "78017b96-7d88-478a-bc1e-57d628093dc2",
   "metadata": {},
   "outputs": [],
   "source": [
    "from langchain_pinecone import PineconeVectorStore"
   ]
  },
  {
   "cell_type": "code",
   "execution_count": 85,
   "id": "86133a9e-fff8-4b8f-9337-02dffd4960eb",
   "metadata": {},
   "outputs": [],
   "source": [
    "vectorstore_from_docs = PineconeVectorStore.from_documents(\n",
    "        documents,\n",
    "        index_name=index_name,\n",
    "        embedding=embeddings\n",
    "    )"
   ]
  },
  {
   "cell_type": "code",
   "execution_count": 86,
   "id": "7a2548e6-f604-42e8-98b6-39abc4c9a11f",
   "metadata": {},
   "outputs": [],
   "source": [
    "retriever = vectorstore_from_docs.as_retriever()"
   ]
  },
  {
   "cell_type": "code",
   "execution_count": 87,
   "id": "af746924-a0ab-4afa-b1d5-010a3390c140",
   "metadata": {},
   "outputs": [],
   "source": [
    "prompt = hub.pull(\"rlm/rag-prompt\")"
   ]
  },
  {
   "cell_type": "code",
   "execution_count": 88,
   "id": "7e9f58e9-20ff-4061-bb28-eb9a98619cce",
   "metadata": {},
   "outputs": [],
   "source": [
    "rag_chain = (\n",
    "    {\"context\": retriever, \"question\": RunnablePassthrough()}\n",
    "    | prompt\n",
    "    | llm1\n",
    "    | StrOutputParser()\n",
    ")"
   ]
  },
  {
   "cell_type": "code",
   "execution_count": 89,
   "id": "ba30a30f-abd7-4b9b-9a06-d2306a862115",
   "metadata": {},
   "outputs": [
    {
     "data": {
      "text/plain": [
       "' The Economic Reforms refer to a series of policies and measures implemented in 1991 by the Indian government to liberalize and open up the economy. These reforms included deregulation of industries, reduction of import tariffs, liberalization of foreign direct investment policies, privatization of state-owned enterprises, and overhaul of the tax system. They aimed to spur economic growth, transform the economy into a more market-oriented one, and integrate it into the global economy.'"
      ]
     },
     "execution_count": 89,
     "metadata": {},
     "output_type": "execute_result"
    }
   ],
   "source": [
    "rag_chain.invoke(\"What are the Economic Reforms ?\")"
   ]
  },
  {
   "cell_type": "code",
   "execution_count": 91,
   "id": "159b7b0f-211e-4cd8-8fce-9b60e200ca67",
   "metadata": {},
   "outputs": [
    {
     "data": {
      "text/plain": [
       "' Agriculture, Industry, and Services are the key sectors of the Indian economy. Agriculture employs around 42% of the workforce and contributes approximately 16% to the GDP, while the industrial sector contributes about 25% and the services sector accounts for around 55% of the GDP.'"
      ]
     },
     "execution_count": 91,
     "metadata": {},
     "output_type": "execute_result"
    }
   ],
   "source": [
    "rag_chain.invoke(\"What are the Key Sectors of the Indian Economy?\")"
   ]
  },
  {
   "cell_type": "code",
   "execution_count": 92,
   "id": "fe9df6a3-12fd-4d48-b8c1-7f189273834f",
   "metadata": {},
   "outputs": [
    {
     "data": {
      "text/plain": [
       "' The capital of India is New Delhi.'"
      ]
     },
     "execution_count": 92,
     "metadata": {},
     "output_type": "execute_result"
    }
   ],
   "source": [
    "rag_chain.invoke(\"What is capital of India?\")"
   ]
  },
  {
   "cell_type": "code",
   "execution_count": 93,
   "id": "4b0f8556-2d6b-4a9e-80ea-6e148ce1533c",
   "metadata": {},
   "outputs": [
    {
     "data": {
      "text/plain": [
       "\" I don't know.\""
      ]
     },
     "execution_count": 93,
     "metadata": {},
     "output_type": "execute_result"
    }
   ],
   "source": [
    "rag_chain.invoke(\"What is capital of USA?\")"
   ]
  },
  {
   "cell_type": "code",
   "execution_count": 94,
   "id": "532936ef-5277-4c1f-90b8-585d689330f0",
   "metadata": {},
   "outputs": [
    {
     "data": {
      "text/plain": [
       "3"
      ]
     },
     "execution_count": 94,
     "metadata": {},
     "output_type": "execute_result"
    }
   ],
   "source": [
    "retriever = vectorstore_from_docs.as_retriever(search_type=\"similarity\", search_kwargs={\"k\": 3})\n",
    "\n",
    "retrieved_docs = retriever.invoke(\"What are the Key Sectors of the Indian Economy?\")\n",
    "\n",
    "len(retrieved_docs)"
   ]
  },
  {
   "cell_type": "code",
   "execution_count": 95,
   "id": "d11347f6-5f98-4150-9933-6a321bb1e716",
   "metadata": {},
   "outputs": [
    {
     "data": {
      "text/plain": [
       "[Document(page_content=\"Indian Economy: An Overview\\nKey Sectors of the Indian Economy\\nAgriculture: Agriculture has historically been the backbone of the Indian economy. It employs around\\n42% of the workforce and contributes approximately 16% to the GDP. Key agricultural products\\ninclude rice, wheat, pulses, spices, and cotton. Despite its importance, the sector faces challenges\\nsuch as low productivity, fragmented land holdings, and dependence on monsoons.\\nIndustry: The industrial sector has witnessed significant growth post-reforms. It contributes about\\n25% to the GDP and includes sub-sectors like manufacturing, mining, and construction. The 'Make\\nin India' initiative launched in 2014 aims to boost manufacturing, attract FDI, and create jobs,\\npositioning India as a global manufacturing hub.\\nServices: The services sector is the largest contributor to the Indian economy, accounting for around\\n55% of the GDP. It encompasses a wide range of activities including IT and IT-enabled services,\", metadata={'page': 4.0, 'source': 'D:\\\\Data\\\\LLM\\\\llamaindex\\\\IndianEconomy\\\\Indian_Economy_Overview.pdf'}),\n",
       " Document(page_content=\"telecommunications, banking, retail, and tourism. India's IT industry, centered in cities like\\nBengaluru, Hyderabad, and Pune, is renowned globally and a significant source of export revenue.\\nPage 5\", metadata={'page': 4.0, 'source': 'D:\\\\Data\\\\LLM\\\\llamaindex\\\\IndianEconomy\\\\Indian_Economy_Overview.pdf'}),\n",
       " Document(page_content=\"Indian Economy: An Overview\\nIntroduction\\nIndia, one of the world's fastest-growing economies, has shown remarkable resilience and growth\\nover the past few decades. With a population of over 1.4 billion people, it is the world's second-most\\npopulous country and boasts a diverse and complex economy that encompasses agriculture,\\nmanufacturing, and services sectors. This document provides an overview of the Indian economy,\\ntracing its historical background, economic reforms, key sectors, current scenario, challenges, and\\nfuture prospects.\\nPage 2\", metadata={'page': 1.0, 'source': 'D:\\\\Data\\\\LLM\\\\llamaindex\\\\IndianEconomy\\\\Indian_Economy_Overview.pdf'})]"
      ]
     },
     "execution_count": 95,
     "metadata": {},
     "output_type": "execute_result"
    }
   ],
   "source": [
    "retrieved_docs"
   ]
  },
  {
   "cell_type": "code",
   "execution_count": 96,
   "id": "764d2f9f-1fc9-4b97-bc56-1fe24786fede",
   "metadata": {},
   "outputs": [
    {
     "data": {
      "text/plain": [
       "' The key sectors of the Indian economy are agriculture, industry, and services. Agriculture is the largest employer, contributing around 16% to the GDP, while the industrial sector contributes approximately 25% and the services sector contributes around 55%.'"
      ]
     },
     "execution_count": 96,
     "metadata": {},
     "output_type": "execute_result"
    }
   ],
   "source": [
    "rag_chain.invoke(\"What are the Key Sectors of the Indian Economy?\")"
   ]
  },
  {
   "cell_type": "code",
   "execution_count": null,
   "id": "5b98d9b9-64d1-442b-a94a-8942e5f4a4fb",
   "metadata": {},
   "outputs": [],
   "source": []
  }
 ],
 "metadata": {
  "kernelspec": {
   "display_name": "Python 3 (ipykernel)",
   "language": "python",
   "name": "python3"
  },
  "language_info": {
   "codemirror_mode": {
    "name": "ipython",
    "version": 3
   },
   "file_extension": ".py",
   "mimetype": "text/x-python",
   "name": "python",
   "nbconvert_exporter": "python",
   "pygments_lexer": "ipython3",
   "version": "3.11.7"
  }
 },
 "nbformat": 4,
 "nbformat_minor": 5
}
